{
 "cells": [
  {
   "cell_type": "code",
   "execution_count": 1,
   "id": "eee931e7-9a0d-4030-8c82-efc9e1ca6cbe",
   "metadata": {},
   "outputs": [
    {
     "name": "stderr",
     "output_type": "stream",
     "text": [
      "/home/d/dziri/venvs/jlab/lib/python3.12/site-packages/tqdm/auto.py:21: TqdmWarning: IProgress not found. Please update jupyter and ipywidgets. See https://ipywidgets.readthedocs.io/en/stable/user_install.html\n",
      "  from .autonotebook import tqdm as notebook_tqdm\n"
     ]
    }
   ],
   "source": [
    "from dataset import SiTDataset\n",
    "from tqdm import tqdm\n",
    "import os\n",
    "os.environ['PYTHONPATH'] = '/env/python:/content/SiT'\n",
    "import torch\n",
    "from torchvision.utils import save_image\n",
    "from transport import create_transport, Sampler\n",
    "from diffusers.models import AutoencoderKL\n",
    "from download import find_model\n",
    "from models import SiT_S_2, SiT_B_8\n",
    "import lpips\n",
    "from PIL import Image\n",
    "import numpy as np\n",
    "from skimage.metrics import structural_similarity, mean_squared_error"
   ]
  },
  {
   "cell_type": "code",
   "execution_count": 2,
   "id": "d99dfdd3-25be-4a57-9e85-435858d99a7e",
   "metadata": {},
   "outputs": [],
   "source": [
    "def get_pose_radius(pose):\n",
    "    translation_vector = pose[:3, 3] #shape [1, 32, 32]\n",
    "    radius = torch.norm(translation_vector)\n",
    "    \n",
    "    return radius\n",
    "\n",
    "def calculate_psnr(image, prediction):\n",
    "    mse = np.mean((image - prediction) ** 2)\n",
    "    if mse == 0:\n",
    "        return float('inf')\n",
    "\n",
    "    max_pixel = 255.0  # Assuming 8-bit images; change if your pixel values differ\n",
    "    psnr = 20 * np.log10(max_pixel / np.sqrt(mse))\n",
    "    return psnr\n",
    "\n",
    "def evaluate_prediction(ground_truth, prediction):\n",
    "    ground_truth = ground_truth.detach().cpu().numpy()\n",
    "    prediction = prediction.detach().cpu().numpy()\n",
    "\n",
    "    ground_truth = ground_truth.transpose(1, 2, 0)\n",
    "    prediction = prediction.transpose(1, 2, 0)\n",
    "\n",
    "    if ground_truth.max() <= 1.0:\n",
    "        ground_truth = ground_truth * 255.0\n",
    "    if prediction.max() <= 1.0:\n",
    "        prediction = prediction * 255.0\n",
    "\n",
    "    ground_truth = np.clip(ground_truth, 0, 255).astype(np.float32)\n",
    "    prediction = np.clip(prediction, 0, 255).astype(np.float32)\n",
    "    \n",
    "    psnr = calculate_psnr(ground_truth, prediction)\n",
    "    mse = mean_squared_error(ground_truth.flatten(), prediction.flatten())\n",
    "    \n",
    "    return round(float(psnr)), round(float(mse))"
   ]
  },
  {
   "cell_type": "code",
   "execution_count": 3,
   "id": "3c8248c9-9942-4452-ad15-fe3953cbcac3",
   "metadata": {
    "scrolled": true
   },
   "outputs": [
    {
     "name": "stderr",
     "output_type": "stream",
     "text": [
      "/home/d/dziri/big/SiT/SiT/download.py:23: FutureWarning: You are using `torch.load` with `weights_only=False` (the current default value), which uses the default pickle module implicitly. It is possible to construct malicious pickle data which will execute arbitrary code during unpickling (See https://github.com/pytorch/pytorch/blob/main/SECURITY.md#untrusted-models for more details). In a future release, the default value for `weights_only` will be flipped to `True`. This limits the functions that could be executed during unpickling. Arbitrary objects will no longer be allowed to be loaded via this mode unless they are explicitly allowlisted by the user via `torch.serialization.add_safe_globals`. We recommend you start setting `weights_only=True` for any use case where you don't have full control of the loaded file. Please open an issue on GitHub for any issues related to this experimental feature.\n",
      "  checkpoint = torch.load(model_name, map_location=lambda storage, loc: storage)\n"
     ]
    }
   ],
   "source": [
    "image_size = \"128\"\n",
    "vae_model = \"stabilityai/sd-vae-ft-ema\"\n",
    "latent_size = int(image_size) // 8\n",
    "\n",
    "model = SiT_B_8(input_size=latent_size, num_classes=1).to('cuda')\n",
    "state_dict = find_model(\"results/300_epochs/0060000.pt\")                # Print the actual tensor (can be large!)\n",
    "model.load_state_dict(state_dict)\n",
    "model.eval() # important!\n",
    "vae = AutoencoderKL.from_pretrained(vae_model).to('cuda')\n"
   ]
  },
  {
   "cell_type": "code",
   "execution_count": 4,
   "id": "534e2f07-7712-4ad0-8a55-fccd7ca70651",
   "metadata": {},
   "outputs": [],
   "source": [
    "#seed = 1 #@param {type:\"number\"}\n",
    "#torch.manual_seed(seed)\n",
    "\n",
    "num_sampling_steps = 250\n",
    "\n",
    "cfg_scale = 4\n",
    "\n",
    "class_labels = [0]\n",
    "sampler_type = \"ODE\"\n",
    "\n",
    "transport = create_transport()\n",
    "sampler = Sampler(transport)"
   ]
  },
  {
   "cell_type": "code",
   "execution_count": 5,
   "id": "b76a8666-145f-423c-9d0f-1b3ebaaafae9",
   "metadata": {},
   "outputs": [],
   "source": [
    "# Sample images:\n",
    "if sampler_type == \"SDE\":\n",
    "    SDE_sampling_method = \"Euler\"\n",
    "    diffusion_form = \"linear\"\n",
    "    \n",
    "    \"\"\"This tells how strong the noise is\"\"\"\n",
    "    diffusion_norm = 1\n",
    "    \n",
    "    \"\"\"How the final denoised latent should be calculated\"\"\"\n",
    "    last_step = \"Mean\"\n",
    "    last_step_size = 0.4\n",
    "    \n",
    "    \"\"\"Final function at the end that does everything:\n",
    "    \"\"\"\n",
    "    sample_fn = sampler.sample_sde(\n",
    "        sampling_method=SDE_sampling_method,\n",
    "        diffusion_form=diffusion_form, \n",
    "        diffusion_norm=diffusion_norm,\n",
    "        last_step_size=last_step_size, \n",
    "        num_steps=num_sampling_steps,\n",
    "    )\n",
    "elif sampler_type == \"ODE\":\n",
    "    # default to Adaptive Solver\n",
    "    ODE_sampling_method = \"dopri5\"\n",
    "\n",
    "    atol = 1e-6\n",
    "    rtol = 1e-3\n",
    "    \n",
    "    sample_fn = sampler.sample_ode(\n",
    "        sampling_method=ODE_sampling_method,\n",
    "        atol=atol,\n",
    "        rtol=rtol,\n",
    "        num_steps=num_sampling_steps\n",
    "    )"
   ]
  },
  {
   "cell_type": "code",
   "execution_count": 6,
   "id": "3a772370-9325-48fd-80aa-d1d36ef91057",
   "metadata": {},
   "outputs": [],
   "source": [
    "from torchvision import transforms\n",
    "from torch.utils.data import DataLoader\n",
    "\n",
    "vae = AutoencoderKL.from_pretrained(vae_model).to(\"cuda\")\n",
    "\n",
    "device = 'cuda'\n",
    "\n",
    "transform = transforms.Compose([\n",
    "    transforms.Resize(128),\n",
    "    transforms.ToTensor(),\n",
    "    transforms.Normalize(mean=[0.5, 0.5, 0.5], std=[0.5, 0.5, 0.5], inplace=True)\n",
    "])\n",
    "\n",
    "dataset = SiTDataset(\"data/chair_data/test\", transform=transform)\n",
    "\n",
    "eval_loader = DataLoader(\n",
    "    dataset,\n",
    "    batch_size=1,\n",
    "    shuffle=True,\n",
    "    pin_memory=True,\n",
    "    drop_last=True\n",
    ")\n",
    "\n",
    "ys = torch.zeros(1, dtype=torch.long, device=\"cuda\")"
   ]
  },
  {
   "cell_type": "code",
   "execution_count": 7,
   "id": "c6f15e6a-0c30-45eb-9ac2-34c2fc7b1963",
   "metadata": {},
   "outputs": [
    {
     "name": "stderr",
     "output_type": "stream",
     "text": [
      "Evaluating model...:   1%|▏                   | 30/3000 [00:13<22:12,  2.23it/s]"
     ]
    },
    {
     "name": "stdout",
     "output_type": "stream",
     "text": [
      "PSNR: 0.17166666666666666\n",
      "MSE:  16.944333333333333\n"
     ]
    },
    {
     "name": "stderr",
     "output_type": "stream",
     "text": [
      "\n"
     ]
    }
   ],
   "source": [
    "from torchvision.utils import save_image\n",
    "import torch\n",
    "from tqdm import tqdm\n",
    "\n",
    "max_pairs = 10                    # how many GT/pred rows to keep\n",
    "gt_pool, pred_pool = [], []       # hold first 10 pairs for final sheet\n",
    "\n",
    "total_psnr = total_mse = total_ssim = 0.0\n",
    "plot_data = []\n",
    "i = 0\n",
    "with torch.inference_mode(): \n",
    "    for image, pose, _ in tqdm(eval_loader, \"Evaluating model...\"):\n",
    "        image = image.to(\"cuda\")\n",
    "        pose  = pose.to(\"cuda\")\n",
    "        radius = round(get_pose_radius(pose).item(), 2)\n",
    "    \n",
    "        # ─── inference ────────────────────────────────────────────────────────────\n",
    "        n = ys.size(0)\n",
    "        y = torch.IntTensor([0]).to(device)\n",
    "        z = torch.cat([pose, pose], 0)\n",
    "        y_null = torch.tensor([1] * n, device=\"cuda\")\n",
    "        y = torch.cat([y, y_null], 0)\n",
    "        model_kwargs = dict(y=y, cfg_scale=cfg_scale)\n",
    "    \n",
    "        samples = sample_fn(z, model.forward_with_cfg, **model_kwargs)[-1]\n",
    "        samples = vae.decode(samples / 0.18215).sample\n",
    "        samples = samples[0]                  # (C,H,W)\n",
    "        image   = image[0]\n",
    "    \n",
    "        # ─── similarity metrics ──────────────────────────────────────────────────\n",
    "        psnr, mse = evaluate_prediction(image, samples)\n",
    "    \n",
    "        plot_data.append([radius / 10, psnr, mse])\n",
    "        total_psnr += psnr\n",
    "        total_mse  += mse\n",
    "    \n",
    "        # ─── store first 10 GT / prediction pairs ────────────────────────────────\n",
    "        if len(gt_pool) < max_pairs:\n",
    "            gt_pool.append(image.cpu())\n",
    "            pred_pool.append(samples.cpu())    \n",
    "\n",
    "        if i == 30:\n",
    "            break\n",
    "        else:\n",
    "            i += 1\n",
    "\n",
    "# ─── save the sheet with 10 rows × 2 columns (GT | PRED) ─────────────────────\n",
    "if gt_pool:\n",
    "    sheet_images = torch.stack(\n",
    "        [im for pair in zip(gt_pool, pred_pool) for im in pair]\n",
    "    )  # shape: (20, C, H, W)\n",
    "\n",
    "    save_image(\n",
    "        sheet_images,\n",
    "        \"gt_vs_pred_first10.png\",\n",
    "        nrow=2,                         # 2 columns: GT left, prediction right\n",
    "        padding=2,\n",
    "        normalize=True,\n",
    "        value_range=(-1, 1)\n",
    "    )\n",
    "\n",
    "# ─── finish metrics ──────────────────────────────────────────────────────────\n",
    "num_batches = len(eval_loader)\n",
    "total_psnr /= num_batches\n",
    "total_mse  /= num_batches\n",
    "\n",
    "print(\"PSNR:\", total_psnr)\n",
    "print(\"MSE: \", total_mse)\n"
   ]
  },
  {
   "cell_type": "code",
   "execution_count": 8,
   "id": "84f90cc5-69aa-4571-b437-2ce042e264e9",
   "metadata": {},
   "outputs": [
    {
     "data": {
      "image/png": "[encoded data removed]",
      "text/plain": [
       "<Figure size 1500x400 with 2 Axes>"
      ]
     },
     "metadata": {},
     "output_type": "display_data"
    }
   ],
   "source": [
    "import numpy as np\n",
    "import matplotlib.pyplot as plt\n",
    "\n",
    "data   = np.array(plot_data, dtype=float)\n",
    "data   = data[data[:, 0].argsort()]\n",
    "\n",
    "radius = data[:, 0]\n",
    "psnr   = data[:, 1]\n",
    "mse    = data[:, 2]\n",
    "\n",
    "fig, axes = plt.subplots(1, 2, figsize=(15, 4), sharex=True)\n",
    "\n",
    "def add_panel(ax, y, y_label, title):\n",
    "    ax.plot(radius, y, marker='o', linestyle='none')      # ← changed line\n",
    "    ax.axhline(y.mean(), ls='--', lw=1.2,\n",
    "               label=f'Average = {y.mean():.2f}')\n",
    "    ax.set_xlabel('Radius')\n",
    "    ax.set_ylabel(y_label)\n",
    "    ax.set_title(title)\n",
    "    ax.legend()\n",
    "\n",
    "add_panel(axes[0], psnr, 'PSNR', 'PSNR vs. Radius')\n",
    "add_panel(axes[1], mse,  'MSE',  'MSE vs. Radius')\n",
    "\n",
    "plt.tight_layout()\n",
    "\n",
    "fig.savefig(\"radius_metrics.png\", dpi=300, bbox_inches=\"tight\")\n",
    "\n",
    "plt.show()\n"
   ]
  },
  {
   "cell_type": "code",
   "execution_count": null,
   "id": "5a2253d0-f3e4-4717-8b26-cba85f8c5e26",
   "metadata": {},
   "outputs": [],
   "source": []
  },
  {
   "cell_type": "markdown",
   "id": "ab6102bf-ce18-4b4d-bdc0-3e47557c5616",
   "metadata": {},
   "source": [
    "# Test invertibility of SiT"
   ]
  },
  {
   "cell_type": "code",
   "execution_count": 3,
   "id": "ac596a97-9a07-4ffa-a235-44b39840f798",
   "metadata": {
    "scrolled": true
   },
   "outputs": [
    {
     "name": "stderr",
     "output_type": "stream",
     "text": [
      "/home/d/dziri/big/SiT/SiT/download.py:23: FutureWarning: You are using `torch.load` with `weights_only=False` (the current default value), which uses the default pickle module implicitly. It is possible to construct malicious pickle data which will execute arbitrary code during unpickling (See https://github.com/pytorch/pytorch/blob/main/SECURITY.md#untrusted-models for more details). In a future release, the default value for `weights_only` will be flipped to `True`. This limits the functions that could be executed during unpickling. Arbitrary objects will no longer be allowed to be loaded via this mode unless they are explicitly allowlisted by the user via `torch.serialization.add_safe_globals`. We recommend you start setting `weights_only=True` for any use case where you don't have full control of the loaded file. Please open an issue on GitHub for any issues related to this experimental feature.\n",
      "  checkpoint = torch.load(model_name, map_location=lambda storage, loc: storage)\n"
     ]
    }
   ],
   "source": [
    "image_size = \"128\"\n",
    "vae_model = \"stabilityai/sd-vae-ft-ema\"\n",
    "latent_size = int(image_size) // 8\n",
    "\n",
    "model = SiT_B_8(input_size=latent_size, num_classes=1).to('cuda')\n",
    "state_dict = find_model(\"results/300_epochs/0060000.pt\")                # Print the actual tensor (can be large!)\n",
    "model.load_state_dict(state_dict)\n",
    "model.eval() # important!\n",
    "vae = AutoencoderKL.from_pretrained(vae_model).to('cuda')"
   ]
  },
  {
   "cell_type": "code",
   "execution_count": 4,
   "id": "07008233-2f47-42ba-8262-3211b8dd5941",
   "metadata": {},
   "outputs": [],
   "source": [
    "#seed = 1 #@param {type:\"number\"}\n",
    "#torch.manual_seed(seed)\n",
    "\n",
    "num_sampling_steps = 250\n",
    "\n",
    "cfg_scale = 4\n",
    "\n",
    "class_labels = [0]\n",
    "sampler_type = \"ODE\"\n",
    "\n",
    "transport = create_transport()\n",
    "sampler = Sampler(transport)"
   ]
  },
  {
   "cell_type": "code",
   "execution_count": 5,
   "id": "401e9b33-6eb4-44d5-97ed-087b6c3cc0e5",
   "metadata": {},
   "outputs": [],
   "source": [
    "# Sample images:\n",
    "if sampler_type == \"SDE\":\n",
    "    SDE_sampling_method = \"Euler\"\n",
    "    diffusion_form = \"linear\"\n",
    "    \n",
    "    \"\"\"This tells how strong the noise is\"\"\"\n",
    "    diffusion_norm = 1\n",
    "    \n",
    "    \"\"\"How the final denoised latent should be calculated\"\"\"\n",
    "    last_step = \"Mean\"\n",
    "    last_step_size = 0.4\n",
    "    \n",
    "    \"\"\"Final function at the end that does everything:\n",
    "    \"\"\"\n",
    "    sample_fn = sampler.sample_sde(\n",
    "        sampling_method=SDE_sampling_method,\n",
    "        diffusion_form=diffusion_form, \n",
    "        diffusion_norm=diffusion_norm,\n",
    "        last_step_size=last_step_size, \n",
    "        num_steps=num_sampling_steps,\n",
    "        reverse=True\n",
    "    )\n",
    "elif sampler_type == \"ODE\":\n",
    "    # default to Adaptive Solver\n",
    "    ODE_sampling_method = \"dopri5\"\n",
    "\n",
    "    atol = 1e-6\n",
    "    rtol = 1e-3\n",
    "    \n",
    "    sample_fn = sampler.sample_ode_backwards(\n",
    "        sampling_method=ODE_sampling_method,\n",
    "        atol=atol,\n",
    "        rtol=rtol,\n",
    "        num_steps=num_sampling_steps,\n",
    "        reverse=False\n",
    "    )"
   ]
  },
  {
   "cell_type": "code",
   "execution_count": 9,
   "id": "7aa1135d-c5ef-45ec-8e6b-f7e64344f018",
   "metadata": {},
   "outputs": [],
   "source": [
    "from torchvision import transforms\n",
    "from torch.utils.data import DataLoader\n",
    "\n",
    "vae = AutoencoderKL.from_pretrained(vae_model).to(\"cuda\")\n",
    "\n",
    "device = 'cuda'\n",
    "\n",
    "transform = transforms.Compose([\n",
    "    transforms.Resize(128),\n",
    "    transforms.ToTensor(),\n",
    "    transforms.Normalize(mean=[0.5, 0.5, 0.5], std=[0.5, 0.5, 0.5], inplace=True)\n",
    "])\n",
    "\n",
    "dataset = SiTDataset(\"data/chair_data/test\", transform=transform)\n",
    "\n",
    "eval_loader = DataLoader(\n",
    "    dataset,\n",
    "    batch_size=1,\n",
    "    shuffle=True,\n",
    "    pin_memory=True,\n",
    "    drop_last=True\n",
    ")\n",
    "\n",
    "def extract_pose(pose):\n",
    "    pass\n",
    "\n",
    "ys = torch.zeros(1, dtype=torch.long, device=\"cuda\")"
   ]
  },
  {
   "cell_type": "code",
   "execution_count": 19,
   "id": "75696f81-2334-44e3-b39c-4ab887939e69",
   "metadata": {
    "scrolled": true
   },
   "outputs": [
    {
     "name": "stderr",
     "output_type": "stream",
     "text": [
      "Evaluating model...:   0%|                             | 0/3000 [00:02<?, ?it/s]"
     ]
    },
    {
     "name": "stdout",
     "output_type": "stream",
     "text": [
      "torch.Size([4, 16, 16])\n"
     ]
    },
    {
     "name": "stderr",
     "output_type": "stream",
     "text": [
      "\n"
     ]
    },
    {
     "ename": "ValueError",
     "evalue": "not enough values to unpack (expected 3, got 2)",
     "output_type": "error",
     "traceback": [
      "\u001b[31m---------------------------------------------------------------------------\u001b[39m",
      "\u001b[31mValueError\u001b[39m                                Traceback (most recent call last)",
      "\u001b[36mCell\u001b[39m\u001b[36m \u001b[39m\u001b[32mIn[19]\u001b[39m\u001b[32m, line 56\u001b[39m\n\u001b[32m     52\u001b[39m denoised_pose = samples - noise\n\u001b[32m     54\u001b[39m \u001b[38;5;28mprint\u001b[39m(denoised_pose.shape)\n\u001b[32m---> \u001b[39m\u001b[32m56\u001b[39m psnr, mse, ssim = evaluate_prediction(image, samples)\n\u001b[32m     58\u001b[39m plot_data.append([radius, psnr, mse, ssim])\n\u001b[32m     59\u001b[39m total_psnr += psnr\n",
      "\u001b[31mValueError\u001b[39m: not enough values to unpack (expected 3, got 2)"
     ]
    }
   ],
   "source": [
    "#Iterate over testset loader, get image, pose\n",
    "total_psnr = 0\n",
    "total_mse = 0\n",
    "total_ssim = 0\n",
    "plot_data = []\n",
    "\n",
    "def reverse_pose(pose):\n",
    "    flat16 = pose[0, 0, :16]          # shape (16,)\n",
    "\n",
    "    orig_4x4 = flat16.view(4, 4) \n",
    "\n",
    "    return orig_4x4\n",
    "\n",
    "for image, pose, noise in tqdm(eval_loader, \"Evaluating model...\"):\n",
    "    ogimage = image\n",
    "    image = image.to(\"cuda\")\n",
    "    posterior = vae.encode(image)[0]\n",
    "    image = posterior.sample()\n",
    "    image = image * 0.18215\n",
    "\n",
    "    pose = pose.to(\"cuda\")\n",
    "    radius = get_pose_radius(pose)\n",
    "    radius = round(radius.item(), 2)\n",
    "\n",
    "    noise = noise.to(\"cuda\")[0]\n",
    "    \n",
    "    n = ys.size(0)\n",
    "    y = torch.IntTensor([0]).to(device)\n",
    "    z = torch.cat([image, image], 0)\n",
    "    y_null = torch.tensor([1] * n, device=\"cuda\")\n",
    "\n",
    "    y = torch.cat([y, y_null], 0)\n",
    "    model_kwargs = dict(y=y, cfg_scale=cfg_scale)\n",
    "    \n",
    "    #Use pose to synthesize a new image using SiT\n",
    "    samples = sample_fn(z, model.forward_with_cfg, **model_kwargs)[-1]\n",
    "    samples = samples[0][0]\n",
    "    samples = samples - noise\n",
    "\n",
    "    samples = samples\n",
    "    image = image[0]\n",
    "\n",
    "    save_image(samples, \n",
    "               f\"sample_1.png\", \n",
    "               nrow=int(1),\n",
    "               normalize=True, value_range=(-1, 1))\n",
    "    save_image(ogimage, \n",
    "           f\"og_1.png\", \n",
    "           nrow=int(1),\n",
    "           normalize=True, value_range=(-1, 1))\n",
    "\n",
    "    denoised_pose = samples - noise\n",
    "\n",
    "    print(denoised_pose.shape)\n",
    "\n",
    "    psnr, mse, ssim = evaluate_prediction(image, samples)\n",
    "\n",
    "    plot_data.append([radius, psnr, mse, ssim])\n",
    "    total_psnr += psnr\n",
    "    total_mse += mse\n",
    "    total_ssim += ssim\n",
    "\n",
    "    break\n",
    "\n",
    "total_psnr /= eval_loader.__len__()\n",
    "total_mse /= eval_loader.__len__()\n",
    "total_ssim /= eval_loader.__len__()\n",
    "\n",
    "print(\"PSNR:\", total_psnr)\n",
    "print(\"MSE:\", total_mse)\n",
    "print(\"SSIM:\", total_ssim)"
   ]
  },
  {
   "cell_type": "code",
   "execution_count": null,
   "id": "20631fe4-68bb-46da-9f0b-316ff9a68d38",
   "metadata": {},
   "outputs": [],
   "source": []
  },
  {
   "cell_type": "code",
   "execution_count": null,
   "id": "13da2abe-e36e-4fdd-b265-38651fc5c3e5",
   "metadata": {},
   "outputs": [],
   "source": []
  }
 ],
 "metadata": {
  "kernelspec": {
   "display_name": "Python 3 (ipykernel)",
   "language": "python",
   "name": "python3"
  },
  "language_info": {
   "codemirror_mode": {
    "name": "ipython",
    "version": 3
   },
   "file_extension": ".py",
   "mimetype": "text/x-python",
   "name": "python",
   "nbconvert_exporter": "python",
   "pygments_lexer": "ipython3",
   "version": "3.12.3"
  }
 },
 "nbformat": 4,
 "nbformat_minor": 5
}
